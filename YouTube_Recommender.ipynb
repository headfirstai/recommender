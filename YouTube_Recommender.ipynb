{
  "nbformat": 4,
  "nbformat_minor": 0,
  "metadata": {
    "colab": {
      "name": "YouTube_Recommender.ipynb",
      "provenance": [],
      "authorship_tag": "ABX9TyPX9HzZf8RP8uKBUn2AIWL9"
    },
    "kernelspec": {
      "name": "python3",
      "display_name": "Python 3"
    }
  },
  "cells": [
    {
      "cell_type": "markdown",
      "metadata": {
        "id": "3qn1Lyqvw3Gf",
        "colab_type": "text"
      },
      "source": [
        "© HeadFirst AI, 2020"
      ]
    },
    {
      "cell_type": "code",
      "metadata": {
        "id": "dpOrlu6b65zy",
        "colab_type": "code",
        "colab": {}
      },
      "source": [
        "import gensim\n",
        "import warnings\n",
        "\n",
        "warnings.filterwarnings(action='ignore',category=UserWarning,module='gensim')  \n",
        "warnings.filterwarnings(action='ignore',category=FutureWarning,module='gensim')  \n",
        "\n",
        "model = gensim.models.KeyedVectors.load_word2vec_format('./data/vectors.bin.gz', binary=True)\n",
        "\n",
        "dog = model['dog']\n",
        "print(dog.shape)\n",
        "print(dog[:10])\n",
        "\n",
        "# Deal with an out of dictionary word: Михаил (Michail)\n",
        "if 'Михаил' in model:\n",
        "    print(model['Михаил'].shape)\n",
        "else:\n",
        "    print('{0} is an out of dictionary word'.format('Михаил'))\n",
        "\n",
        "\n",
        "# Some predefined functions that show content related information for given words\n",
        "print(model.most_similar(positive=['woman', 'king'], negative=['man']))\n",
        "\n",
        "print(model.doesnt_match(\"breakfast cereal dinner lunch\".split()))\n",
        "\n",
        "print(model.similarity('woman', 'man'))"
      ],
      "execution_count": null,
      "outputs": []
    }
  ]
}